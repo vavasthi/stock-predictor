{
 "cells": [
  {
   "cell_type": "code",
   "execution_count": 1,
   "id": "4e192442-f420-4acf-a81e-7542b4e1cbd1",
   "metadata": {},
   "outputs": [
    {
     "name": "stdout",
     "output_type": "stream",
     "text": [
      "Using device: cuda\n"
     ]
    }
   ],
   "source": [
    "import torch\n",
    "has_mps = torch.backends.mps.is_built()\n",
    "device = \"mps\" if has_mps else \"cuda\" if torch.cuda.is_available() else \"cpu\"\n",
    "print(f\"Using device: {device}\")\n"
   ]
  },
  {
   "cell_type": "code",
   "execution_count": 2,
   "id": "1922201b-47f1-4b29-91e4-62f66577b1ef",
   "metadata": {},
   "outputs": [],
   "source": [
    "import numpy\n"
   ]
  },
  {
   "cell_type": "code",
   "execution_count": 17,
   "id": "5c11136b-9775-4699-b956-311a17723bbe",
   "metadata": {},
   "outputs": [],
   "source": [
    "import numpy as np\n",
    "import pandas as pd\n",
    "import torch\n",
    "import torch.nn as nn\n",
    "from torch.utils.data import DataLoader, TensorDataset\n",
    "from sklearn.preprocessing import StandardScaler\n",
    "from torch.optim.lr_scheduler import ReduceLROnPlateau\n",
    "from torch.utils.data import random_split, DataLoader\n",
    "from tqdm import tqdm\n",
    "import os\n",
    "\n"
   ]
  },
  {
   "cell_type": "code",
   "execution_count": 4,
   "id": "0a1e4ce1-6e20-4d34-bc24-a10223db522a",
   "metadata": {},
   "outputs": [],
   "source": [
    "from dataclasses import dataclass, field\n",
    "\n",
    "@dataclass\n",
    "class PreProcessed:\n",
    "    train_index_start:int\n",
    "    val_index_start:int\n",
    "    test_index_start:int\n",
    "    train_index_end:int\n",
    "    val_index_end:int\n",
    "    test_index_end:int\n",
    "    train_set_length:int\n",
    "    val_set_length:int\n",
    "    test_set_length:int\n",
    "    file:str\n"
   ]
  },
  {
   "cell_type": "code",
   "execution_count": 5,
   "id": "037c38e1-7dab-4819-be7e-34483be68410",
   "metadata": {},
   "outputs": [
    {
     "data": {
      "text/plain": [
       "4"
      ]
     },
     "execution_count": 5,
     "metadata": {},
     "output_type": "execute_result"
    }
   ],
   "source": [
    "a = [1,2,3,4]\n",
    "max(a)"
   ]
  },
  {
   "cell_type": "code",
   "execution_count": 6,
   "id": "a990fc0a-db7c-48da-8718-ac3a725daa96",
   "metadata": {},
   "outputs": [
    {
     "data": {
      "text/html": [
       "<div>\n",
       "<style scoped>\n",
       "    .dataframe tbody tr th:only-of-type {\n",
       "        vertical-align: middle;\n",
       "    }\n",
       "\n",
       "    .dataframe tbody tr th {\n",
       "        vertical-align: top;\n",
       "    }\n",
       "\n",
       "    .dataframe thead th {\n",
       "        text-align: right;\n",
       "    }\n",
       "</style>\n",
       "<table border=\"1\" class=\"dataframe\">\n",
       "  <thead>\n",
       "    <tr style=\"text-align: right;\">\n",
       "      <th></th>\n",
       "      <th>High</th>\n",
       "      <th>Low</th>\n",
       "    </tr>\n",
       "  </thead>\n",
       "  <tbody>\n",
       "    <tr>\n",
       "      <th>0</th>\n",
       "      <td>2.17</td>\n",
       "      <td>2.07</td>\n",
       "    </tr>\n",
       "    <tr>\n",
       "      <th>1</th>\n",
       "      <td>2.18</td>\n",
       "      <td>2.11</td>\n",
       "    </tr>\n",
       "    <tr>\n",
       "      <th>2</th>\n",
       "      <td>2.13</td>\n",
       "      <td>2.05</td>\n",
       "    </tr>\n",
       "    <tr>\n",
       "      <th>3</th>\n",
       "      <td>2.10</td>\n",
       "      <td>2.04</td>\n",
       "    </tr>\n",
       "    <tr>\n",
       "      <th>4</th>\n",
       "      <td>2.09</td>\n",
       "      <td>2.05</td>\n",
       "    </tr>\n",
       "  </tbody>\n",
       "</table>\n",
       "</div>"
      ],
      "text/plain": [
       "   High   Low\n",
       "0  2.17  2.07\n",
       "1  2.18  2.11\n",
       "2  2.13  2.05\n",
       "3  2.10  2.04\n",
       "4  2.09  2.05"
      ]
     },
     "execution_count": 6,
     "metadata": {},
     "output_type": "execute_result"
    }
   ],
   "source": [
    "df = pd.read_csv(\"/home/vavasthi/non-work/java-cli/outputs/BEL.csv\", sep=',', index_col=False)\n",
    "df[0:5][['High','Low']]"
   ]
  },
  {
   "cell_type": "code",
   "execution_count": 7,
   "id": "947c0220-b8ef-4cb3-adb6-16d3f0237a59",
   "metadata": {},
   "outputs": [
    {
     "data": {
      "text/plain": [
       "(   High_1  Low_1\n",
       " 0    2.17   2.07\n",
       " 1    2.18   2.11\n",
       " 2    2.13   2.05\n",
       " 3    2.10   2.04\n",
       " 4    2.09   2.05,\n",
       "    High_7  Low_7\n",
       " 0    2.06   2.00\n",
       " 1    2.04   1.94\n",
       " 2    2.00   1.96\n",
       " 3    1.98   1.90\n",
       " 4    2.01   1.93)"
      ]
     },
     "execution_count": 7,
     "metadata": {},
     "output_type": "execute_result"
    }
   ],
   "source": [
    "df1 = df[0:5][['High','Low']].rename(columns={'High':'High_{}'.format(1),'Low':'Low_{}'.format(1)}).reset_index(drop=True)\n",
    "df2 = df[7:12][['High','Low']].rename(columns={'High':'High_7','Low':'Low_7'}).reset_index(drop=True)\n",
    "df1, df2"
   ]
  },
  {
   "cell_type": "code",
   "execution_count": 8,
   "id": "ff2ab15d-ffb2-4dd8-a565-141cd0655d39",
   "metadata": {},
   "outputs": [
    {
     "data": {
      "text/html": [
       "<div>\n",
       "<style scoped>\n",
       "    .dataframe tbody tr th:only-of-type {\n",
       "        vertical-align: middle;\n",
       "    }\n",
       "\n",
       "    .dataframe tbody tr th {\n",
       "        vertical-align: top;\n",
       "    }\n",
       "\n",
       "    .dataframe thead th {\n",
       "        text-align: right;\n",
       "    }\n",
       "</style>\n",
       "<table border=\"1\" class=\"dataframe\">\n",
       "  <thead>\n",
       "    <tr style=\"text-align: right;\">\n",
       "      <th></th>\n",
       "      <th>High_1</th>\n",
       "      <th>Low_1</th>\n",
       "      <th>High_7</th>\n",
       "      <th>Low_7</th>\n",
       "    </tr>\n",
       "  </thead>\n",
       "  <tbody>\n",
       "    <tr>\n",
       "      <th>0</th>\n",
       "      <td>2.17</td>\n",
       "      <td>2.07</td>\n",
       "      <td>2.06</td>\n",
       "      <td>2.00</td>\n",
       "    </tr>\n",
       "    <tr>\n",
       "      <th>1</th>\n",
       "      <td>2.18</td>\n",
       "      <td>2.11</td>\n",
       "      <td>2.04</td>\n",
       "      <td>1.94</td>\n",
       "    </tr>\n",
       "    <tr>\n",
       "      <th>2</th>\n",
       "      <td>2.13</td>\n",
       "      <td>2.05</td>\n",
       "      <td>2.00</td>\n",
       "      <td>1.96</td>\n",
       "    </tr>\n",
       "    <tr>\n",
       "      <th>3</th>\n",
       "      <td>2.10</td>\n",
       "      <td>2.04</td>\n",
       "      <td>1.98</td>\n",
       "      <td>1.90</td>\n",
       "    </tr>\n",
       "    <tr>\n",
       "      <th>4</th>\n",
       "      <td>2.09</td>\n",
       "      <td>2.05</td>\n",
       "      <td>2.01</td>\n",
       "      <td>1.93</td>\n",
       "    </tr>\n",
       "  </tbody>\n",
       "</table>\n",
       "</div>"
      ],
      "text/plain": [
       "   High_1  Low_1  High_7  Low_7\n",
       "0    2.17   2.07    2.06   2.00\n",
       "1    2.18   2.11    2.04   1.94\n",
       "2    2.13   2.05    2.00   1.96\n",
       "3    2.10   2.04    1.98   1.90\n",
       "4    2.09   2.05    2.01   1.93"
      ]
     },
     "execution_count": 8,
     "metadata": {},
     "output_type": "execute_result"
    }
   ],
   "source": [
    "df1.join(df2)"
   ]
  },
  {
   "cell_type": "code",
   "execution_count": 9,
   "id": "e3e4287f-e9dd-4376-88eb-028b78c63612",
   "metadata": {},
   "outputs": [
    {
     "data": {
      "text/html": [
       "<div>\n",
       "<style scoped>\n",
       "    .dataframe tbody tr th:only-of-type {\n",
       "        vertical-align: middle;\n",
       "    }\n",
       "\n",
       "    .dataframe tbody tr th {\n",
       "        vertical-align: top;\n",
       "    }\n",
       "\n",
       "    .dataframe thead th {\n",
       "        text-align: right;\n",
       "    }\n",
       "</style>\n",
       "<table border=\"1\" class=\"dataframe\">\n",
       "  <thead>\n",
       "    <tr style=\"text-align: right;\">\n",
       "      <th></th>\n",
       "      <th>StockCode</th>\n",
       "      <th>Year</th>\n",
       "      <th>Month</th>\n",
       "      <th>Day</th>\n",
       "      <th>Open</th>\n",
       "      <th>Close</th>\n",
       "      <th>High</th>\n",
       "      <th>Low</th>\n",
       "      <th>AdjustedClose</th>\n",
       "      <th>Volume</th>\n",
       "      <th>...</th>\n",
       "      <th>cpiFuel</th>\n",
       "      <th>cpiVegetables</th>\n",
       "      <th>cpiGeneral</th>\n",
       "      <th>iipBasicGoods</th>\n",
       "      <th>iipCapitalGoods</th>\n",
       "      <th>iipConsumerDurables</th>\n",
       "      <th>iipElectricity</th>\n",
       "      <th>iipIntermediateGoods</th>\n",
       "      <th>iipGeneral</th>\n",
       "      <th>iipOtherManufacturing</th>\n",
       "    </tr>\n",
       "  </thead>\n",
       "  <tbody>\n",
       "    <tr>\n",
       "      <th>5</th>\n",
       "      <td>500049</td>\n",
       "      <td>2002</td>\n",
       "      <td>6</td>\n",
       "      <td>8</td>\n",
       "      <td>2.09</td>\n",
       "      <td>2.05</td>\n",
       "      <td>2.09</td>\n",
       "      <td>2.04</td>\n",
       "      <td>1.36</td>\n",
       "      <td>10296792.0</td>\n",
       "      <td>...</td>\n",
       "      <td>0.0</td>\n",
       "      <td>0.0</td>\n",
       "      <td>0.0</td>\n",
       "      <td>159.100006</td>\n",
       "      <td>167.5</td>\n",
       "      <td>229.699997</td>\n",
       "      <td>166.199997</td>\n",
       "      <td>188.0</td>\n",
       "      <td>171.800003</td>\n",
       "      <td>166.300003</td>\n",
       "    </tr>\n",
       "  </tbody>\n",
       "</table>\n",
       "<p>1 rows × 31 columns</p>\n",
       "</div>"
      ],
      "text/plain": [
       "   StockCode  Year  Month  Day  Open  Close  High   Low  AdjustedClose  \\\n",
       "5     500049  2002      6    8  2.09   2.05  2.09  2.04           1.36   \n",
       "\n",
       "       Volume  ...  cpiFuel  cpiVegetables  cpiGeneral  iipBasicGoods  \\\n",
       "5  10296792.0  ...      0.0            0.0         0.0     159.100006   \n",
       "\n",
       "   iipCapitalGoods  iipConsumerDurables  iipElectricity  iipIntermediateGoods  \\\n",
       "5            167.5           229.699997      166.199997                 188.0   \n",
       "\n",
       "   iipGeneral  iipOtherManufacturing  \n",
       "5  171.800003             166.300003  \n",
       "\n",
       "[1 rows x 31 columns]"
      ]
     },
     "execution_count": 9,
     "metadata": {},
     "output_type": "execute_result"
    }
   ],
   "source": [
    "df[5:6]\n"
   ]
  },
  {
   "cell_type": "code",
   "execution_count": 10,
   "id": "a752e83f-b07a-40a1-b3e3-b0b249070509",
   "metadata": {},
   "outputs": [],
   "source": [
    "def convert_to_sequences(memory, days_prediction, data_sequence):\n",
    "    x = []\n",
    "    y = []\n",
    "    for i in range(len(data_sequence) - memory - max(days_prediction)):\n",
    "        window = data_sequence[i:i+memory]\n",
    "        prediction = []\n",
    "        for j in range(len(days_prediction)):\n",
    "            after_days = days_prediction[j]\n",
    "            prediction.append(data_sequence[i+memory + after_days - 1,[8,9]])\n",
    "        after_window = np.hstack(prediction)\n",
    "        x.append(window)\n",
    "        y.append(after_window)\n",
    "    return np.asarray(x), np.asarray(y)\n",
    "    "
   ]
  },
  {
   "cell_type": "code",
   "execution_count": null,
   "id": "999a5b49-2d40-4bc6-914d-e094122353ee",
   "metadata": {},
   "outputs": [],
   "source": []
  },
  {
   "cell_type": "code",
   "execution_count": 13,
   "id": "eef3c9dd-cef4-4e04-b5f3-55bfdc84fabf",
   "metadata": {},
   "outputs": [
    {
     "name": "stdout",
     "output_type": "stream",
     "text": [
      "Index(['StockCode', 'Year', 'Month', 'Day', 'Open', 'Close', 'High', 'Low',\n",
      "       'AdjustedClose', 'Volume', 'Bonus', 'Dividend', 'EPS', 'Equity', 'PBT',\n",
      "       'PAT', 'Tax', 'PromoterShares', 'NonPromoterShares', 'cpiOverall',\n",
      "       'cpiHousing', 'cpiFuel', 'cpiVegetables', 'cpiGeneral', 'iipBasicGoods',\n",
      "       'iipCapitalGoods', 'iipConsumerDurables', 'iipElectricity',\n",
      "       'iipIntermediateGoods', 'iipGeneral', 'iipOtherManufacturing'],\n",
      "      dtype='object')\n"
     ]
    }
   ],
   "source": [
    "print(df.columns)\n"
   ]
  },
  {
   "cell_type": "code",
   "execution_count": 27,
   "id": "6073fa34-d665-44c2-be06-48d7544f37da",
   "metadata": {},
   "outputs": [],
   "source": [
    "def load_data(directory, cache_directory, memory, train_perc, val_perc, device, forecast_days = [1, 7, 15]):\n",
    "    rv = []\n",
    "    train_input_dataset = []\n",
    "    train_output_dataset = []\n",
    "    val_input_dataset = []\n",
    "    val_output_dataset = []\n",
    "    test_input_dataset = []\n",
    "    test_output_dataset = []\n",
    "    count = 1\n",
    "    train_data_size = 0\n",
    "    val_data_size = 0\n",
    "    test_data_size = 0\n",
    "    train_index_start = 0\n",
    "    val_index_start = 0\n",
    "    test_index_start = 0\n",
    "    for f in tqdm(os.listdir(directory)):\n",
    "        file = os.path.join(directory, f)\n",
    "        df = pd.read_csv(file, sep=',', index_col=False)\n",
    "        input,output = convert_to_sequences(memory, forecast_days, df.to_numpy())\n",
    "        train_size = int(len(input) * train_perc);\n",
    "        val_size = int(len(input) * val_perc);\n",
    "        test_size = int(len(input) - train_size - val_size)\n",
    "        train_input_dataset_single, val_input_dataset_single, test_input_dataset_single = random_split(input, [train_size, val_size, test_size])\n",
    "        train_output_dataset_single, val_output_dataset_single, test_output_dataset_single = random_split(output, [train_size, val_size, test_size])\n",
    "        print(len(train_input_dataset), len(train_input_dataset_single), f)\n",
    "        train_input_dataset = np.vstack([train_input_dataset, train_input_dataset_single]) if (len(train_input_dataset) != 0) else train_input_dataset_single \n",
    "        train_output_dataset = np.vstack([train_output_dataset, train_output_dataset_single]) if (len(train_output_dataset) != 0) else train_output_dataset_single \n",
    "        val_input_dataset = np.vstack([val_input_dataset, val_input_dataset_single]) if (len(val_input_dataset) != 0) else val_input_dataset_single \n",
    "        val_output_dataset = np.vstack([val_output_dataset, val_output_dataset_single]) if (len(val_output_dataset) != 0) else val_output_dataset_single \n",
    "        test_input_dataset = np.vstack([test_input_dataset, test_input_dataset_single]) if (len(test_input_dataset) != 0) else test_input_dataset_single \n",
    "        test_output_dataset = np.vstack([test_output_dataset, test_output_dataset_single]) if (len(test_output_dataset) != 0) else test_output_dataset_single\n",
    "        train_data_size = train_data_size + len(train_input_dataset)\n",
    "        val_data_size = val_data_size + len(val_input_dataset)\n",
    "        test_data_size = test_data_size + len(test_input_dataset)\n",
    "        if (train_data_size > 20000):\n",
    "            print(\"Writing file of size \", train_data_size)\n",
    "            outfile = os.path.join(cache_directory, 'preprocessed-{}.npz'.format(count))\n",
    "            np.savez_compressed(outfile, train_input=np.asarray(train_input_dataset), train_output=np.asarray(train_output_dataset), val_input=np.asarray(val_input_dataset), val_output=np.asarray(val_output_dataset), test_input=np.asarray(test_input_dataset), test_output=np.asarray(test_output_dataset)) \n",
    "            rv.append(PreProcessed(train_index_start, val_index_start, test_index_start, train_index_start + train_data_size - 1, val_index_start + val_data_size - 1, test_index_start + test_data_size - 1, train_data_size, val_data_size, test_data_size, outfile))\n",
    "            train_index_start = train_index_start + train_data_size\n",
    "            val_index_start = val_index_start + val_data_size\n",
    "            test_index_start = test_index_start + test_data_size\n",
    "            train_data_size = 0\n",
    "            val_data_size = 0\n",
    "            test_data_size = 0\n",
    "            count = count + 1\n",
    "            train_input_dataset = []\n",
    "            train_output_dataset = []\n",
    "            val_input_dataset = []\n",
    "            val_output_dataset = []\n",
    "            test_input_dataset = []\n",
    "            test_output_dataset = []\n",
    "    return rv"
   ]
  },
  {
   "cell_type": "code",
   "execution_count": 30,
   "id": "43e448a9-8379-4717-b71a-dfcd48ac8649",
   "metadata": {},
   "outputs": [
    {
     "name": "stdout",
     "output_type": "stream",
     "text": [
      "cuda\n"
     ]
    },
    {
     "name": "stderr",
     "output_type": "stream",
     "text": [
      "  3%|████▏                                                                                                                                                       | 2/75 [00:00<00:06, 10.75it/s]"
     ]
    },
    {
     "name": "stdout",
     "output_type": "stream",
     "text": [
      "0 5182 EICHERMOT.csv\n",
      "5182 3081 CENTRALBK.csv\n",
      "8263 3810 MARUTI.csv\n",
      "Writing file of size  25518\n"
     ]
    },
    {
     "name": "stderr",
     "output_type": "stream",
     "text": [
      "  7%|██████████▍                                                                                                                                                 | 5/75 [00:03<00:46,  1.49it/s]"
     ]
    },
    {
     "name": "stdout",
     "output_type": "stream",
     "text": [
      "0 3166 PFC.csv\n",
      "3166 5183 FEDERALBNK.csv\n",
      "8349 61 TCS.csv\n",
      "8410 61 TECHM.csv\n",
      "Writing file of size  28396\n"
     ]
    },
    {
     "name": "stderr",
     "output_type": "stream",
     "text": [
      " 12%|██████████████████▋                                                                                                                                         | 9/75 [00:05<00:33,  1.96it/s]"
     ]
    },
    {
     "name": "stdout",
     "output_type": "stream",
     "text": [
      "0 3763 UCOBANK.csv\n",
      "3763 4575 NATIONALUM.csv\n",
      "8338 5182 RELIANCE.csv\n",
      "Writing file of size  25621\n"
     ]
    },
    {
     "name": "stderr",
     "output_type": "stream",
     "text": [
      " 16%|████████████████████████▊                                                                                                                                  | 12/75 [00:08<00:44,  1.41it/s]"
     ]
    },
    {
     "name": "stdout",
     "output_type": "stream",
     "text": [
      "0 6096 TATAMOTORS.csv\n",
      "6096 3995 BEL.csv\n",
      "10091 3908 CANBK.csv\n",
      "Writing file of size  30186\n"
     ]
    },
    {
     "name": "stderr",
     "output_type": "stream",
     "text": [
      " 20%|███████████████████████████████                                                                                                                            | 15/75 [00:11<00:47,  1.26it/s]"
     ]
    },
    {
     "name": "stdout",
     "output_type": "stream",
     "text": [
      "0 3995 APOLLOHOSP.csv\n",
      "3995 5184 HINDALCO.csv\n",
      "9179 539 LICI.csv\n",
      "Writing file of size  22892\n"
     ]
    },
    {
     "name": "stderr",
     "output_type": "stream",
     "text": [
      " 24%|█████████████████████████████████████▏                                                                                                                     | 18/75 [00:14<00:42,  1.33it/s]"
     ]
    },
    {
     "name": "stdout",
     "output_type": "stream",
     "text": [
      "0 4650 AXISBANK.csv\n",
      "4650 5183 CIPLA.csv\n",
      "9833 3995 GRASIM.csv\n",
      "Writing file of size  28311\n"
     ]
    },
    {
     "name": "stderr",
     "output_type": "stream",
     "text": [
      " 28%|███████████████████████████████████████████▍                                                                                                               | 21/75 [00:18<00:45,  1.18it/s]"
     ]
    },
    {
     "name": "stdout",
     "output_type": "stream",
     "text": [
      "0 3670 MAHABANK.csv\n",
      "3670 5184 WIPRO.csv\n",
      "8854 3033 ADANIPORTS.csv\n",
      "Writing file of size  24411\n"
     ]
    },
    {
     "name": "stderr",
     "output_type": "stream",
     "text": [
      " 33%|███████████████████████████████████████████████████▋                                                                                                       | 25/75 [00:21<00:31,  1.58it/s]"
     ]
    },
    {
     "name": "stdout",
     "output_type": "stream",
     "text": [
      "0 5182 TATACONSUM.csv\n",
      "5182 1327 GICRE.csv\n",
      "6509 1665 IDFCFIRSTB.csv\n",
      "8174 5184 SAIL.csv\n",
      "Writing file of size  33223\n"
     ]
    },
    {
     "name": "stderr",
     "output_type": "stream",
     "text": [
      " 39%|███████████████████████████████████████████████████████████▉                                                                                               | 29/75 [00:24<00:30,  1.52it/s]"
     ]
    },
    {
     "name": "stdout",
     "output_type": "stream",
     "text": [
      "0 1318 NIACL.csv\n",
      "1318 1253 BANDHANBNK.csv\n",
      "2571 3995 BANKBARODA.csv\n",
      "6566 3679 PETRONET.csv\n",
      "Writing file of size  20700\n"
     ]
    },
    {
     "name": "stderr",
     "output_type": "stream",
     "text": [
      " 43%|██████████████████████████████████████████████████████████████████▏                                                                                        | 32/75 [00:27<00:31,  1.37it/s]"
     ]
    },
    {
     "name": "stdout",
     "output_type": "stream",
     "text": [
      "0 3059 POWERGRID.csv\n",
      "3059 3996 PNB.csv\n",
      "7055 840 MAXHEALTH.csv\n",
      "7895 3995 ICICIBANK.csv\n",
      "Writing file of size  29899\n"
     ]
    },
    {
     "name": "stderr",
     "output_type": "stream",
     "text": [
      " 48%|██████████████████████████████████████████████████████████████████████████▍                                                                                | 36/75 [00:30<00:27,  1.40it/s]"
     ]
    },
    {
     "name": "stdout",
     "output_type": "stream",
     "text": [
      "0 3995 BAJFINANCE.csv\n",
      "3995 3996 INDUSINDBK.csv\n",
      "7991 5129 IOC.csv\n",
      "Writing file of size  25106\n"
     ]
    },
    {
     "name": "stderr",
     "output_type": "stream",
     "text": [
      " 52%|████████████████████████████████████████████████████████████████████████████████▌                                                                          | 39/75 [00:34<00:28,  1.29it/s]"
     ]
    },
    {
     "name": "stdout",
     "output_type": "stream",
     "text": [
      "0 3567 NTPC.csv\n",
      "3567 2527 COALINDIA.csv\n",
      "6094 61 BPCL.csv\n",
      "6155 1315 HDFCLIFE.csv\n",
      "Writing file of size  23286\n"
     ]
    },
    {
     "name": "stderr",
     "output_type": "stream",
     "text": [
      " 57%|████████████████████████████████████████████████████████████████████████████████████████▊                                                                  | 43/75 [00:36<00:19,  1.67it/s]"
     ]
    },
    {
     "name": "stdout",
     "output_type": "stream",
     "text": [
      "0 5184 SUNPHARMA.csv\n",
      "5184 3164 INDIANB.csv\n",
      "8348 61 TATASTEEL.csv\n",
      "Writing file of size  21941\n"
     ]
    },
    {
     "name": "stderr",
     "output_type": "stream",
     "text": [
      " 61%|███████████████████████████████████████████████████████████████████████████████████████████████                                                            | 46/75 [00:38<00:17,  1.67it/s]"
     ]
    },
    {
     "name": "stdout",
     "output_type": "stream",
     "text": [
      "0 4179 KOTAKBANK.csv\n",
      "4179 5182 SBIN.csv\n",
      "9361 316 JIOFIN.csv\n",
      "Writing file of size  23217\n"
     ]
    },
    {
     "name": "stderr",
     "output_type": "stream",
     "text": [
      " 65%|█████████████████████████████████████████████████████████████████████████████████████████████████████▎                                                     | 49/75 [00:40<00:16,  1.60it/s]"
     ]
    },
    {
     "name": "stdout",
     "output_type": "stream",
     "text": [
      "0 5184 TITAN.csv\n",
      "5184 3997 SHRIRAMFIN.csv\n",
      "9181 4953 GAIL.csv\n",
      "Writing file of size  28499\n"
     ]
    },
    {
     "name": "stderr",
     "output_type": "stream",
     "text": [
      " 69%|███████████████████████████████████████████████████████████████████████████████████████████████████████████▍                                               | 52/75 [00:44<00:17,  1.31it/s]"
     ]
    },
    {
     "name": "stdout",
     "output_type": "stream",
     "text": [
      "0 5184 HDFCBANK.csv\n",
      "5184 3976 NESTLEIND.csv\n",
      "9160 3995 ASIANPAINT.csv\n",
      "Writing file of size  27499\n"
     ]
    },
    {
     "name": "stderr",
     "output_type": "stream",
     "text": [
      " 75%|███████████████████████████████████████████████████████████████████████████████████████████████████████████████████▋                                       | 56/75 [00:47<00:12,  1.51it/s]"
     ]
    },
    {
     "name": "stdout",
     "output_type": "stream",
     "text": [
      "0 1663 INDIGO.csv\n",
      "1663 61 HINDUNILVR.csv\n",
      "1724 3954 UNIONBANK.csv\n",
      "5678 5182 M&M.csv\n"
     ]
    },
    {
     "name": "stderr",
     "output_type": "stream",
     "text": [
      " 76%|█████████████████████████████████████████████████████████████████████████████████████████████████████████████████████▊                                     | 57/75 [00:47<00:10,  1.78it/s]"
     ]
    },
    {
     "name": "stdout",
     "output_type": "stream",
     "text": [
      "10860 3841 JSWSTEEL.csv\n",
      "Writing file of size  34626\n"
     ]
    },
    {
     "name": "stderr",
     "output_type": "stream",
     "text": [
      " 80%|████████████████████████████████████████████████████████████████████████████████████████████████████████████████████████████                               | 60/75 [00:51<00:11,  1.26it/s]"
     ]
    },
    {
     "name": "stdout",
     "output_type": "stream",
     "text": [
      "0 5184 INFY.csv\n",
      "5184 5182 ONGC.csv\n",
      "10366 3973 BAJAJFINSV.csv\n",
      "Writing file of size  29889\n"
     ]
    },
    {
     "name": "stderr",
     "output_type": "stream",
     "text": [
      " 84%|██████████████████████████████████████████████████████████████████████████████████████████████████████████████████████████████████▏                        | 63/75 [00:54<00:10,  1.13it/s]"
     ]
    },
    {
     "name": "stdout",
     "output_type": "stream",
     "text": [
      "0 3995 TRENT.csv\n",
      "3995 3974 ULTRACEMCO.csv\n",
      "7969 1337 SBILIFE.csv\n",
      "Writing file of size  21270\n"
     ]
    },
    {
     "name": "stderr",
     "output_type": "stream",
     "text": [
      " 88%|████████████████████████████████████████████████████████████████████████████████████████████████████████████████████████████████████████▍                  | 66/75 [00:57<00:07,  1.25it/s]"
     ]
    },
    {
     "name": "stdout",
     "output_type": "stream",
     "text": [
      "0 5181 HINDPETRO.csv\n",
      "5181 3995 LICHSGFIN.csv\n",
      "9176 3995 BHARTIARTL.csv\n",
      "Writing file of size  27528\n"
     ]
    },
    {
     "name": "stderr",
     "output_type": "stream",
     "text": [
      " 92%|██████████████████████████████████████████████████████████████████████████████████████████████████████████████████████████████████████████████▌            | 69/75 [01:01<00:05,  1.19it/s]"
     ]
    },
    {
     "name": "stdout",
     "output_type": "stream",
     "text": [
      "0 61 RECLTD.csv\n",
      "61 5182 DRREDDY.csv\n",
      "5243 3996 ADANIENT.csv\n",
      "9239 3997 LT.csv\n",
      "Writing file of size  27779\n"
     ]
    },
    {
     "name": "stderr",
     "output_type": "stream",
     "text": [
      " 97%|██████████████████████████████████████████████████████████████████████████████████████████████████████████████████████████████████████████████████████▊    | 73/75 [01:04<00:01,  1.27it/s]"
     ]
    },
    {
     "name": "stdout",
     "output_type": "stream",
     "text": [
      "0 5182 ITC.csv\n",
      "5182 3997 BAJAJ-AUTO.csv\n",
      "9179 3977 HCLTECH.csv\n",
      "Writing file of size  27517\n"
     ]
    },
    {
     "name": "stderr",
     "output_type": "stream",
     "text": [
      "100%|███████████████████████████████████████████████████████████████████████████████████████████████████████████████████████████████████████████████████████████| 75/75 [01:07<00:00,  1.11it/s]"
     ]
    },
    {
     "name": "stdout",
     "output_type": "stream",
     "text": [
      "0 3995 BANKINDIA.csv\n",
      "[PreProcessed(train_index_start=0, val_index_start=0, test_index_start=0, train_index_end=25517, val_index_end=5465, test_index_end=5472, train_set_length=25518, val_set_length=5466, test_set_length=5473, file='/data/datasets/cache/preprocessed-1.npz'), PreProcessed(train_index_start=25518, val_index_start=5466, test_index_start=5473, train_index_end=53913, val_index_end=11546, test_index_end=11570, train_set_length=28396, val_set_length=6081, test_set_length=6098, file='/data/datasets/cache/preprocessed-2.npz'), PreProcessed(train_index_start=53914, val_index_start=11547, test_index_start=11571, train_index_end=79534, val_index_end=17034, test_index_end=17064, train_set_length=25621, val_set_length=5488, test_set_length=5494, file='/data/datasets/cache/preprocessed-3.npz'), PreProcessed(train_index_start=79535, val_index_start=17035, test_index_start=17065, train_index_end=109720, val_index_end=23501, test_index_end=23537, train_set_length=30186, val_set_length=6467, test_set_length=6473, file='/data/datasets/cache/preprocessed-4.npz'), PreProcessed(train_index_start=109721, val_index_start=23502, test_index_start=23538, train_index_end=132612, val_index_end=28404, test_index_end=28449, train_set_length=22892, val_set_length=4903, test_set_length=4912, file='/data/datasets/cache/preprocessed-5.npz'), PreProcessed(train_index_start=132613, val_index_start=28405, test_index_start=28450, train_index_end=160923, val_index_end=34468, test_index_end=34524, train_set_length=28311, val_set_length=6064, test_set_length=6075, file='/data/datasets/cache/preprocessed-6.npz'), PreProcessed(train_index_start=160924, val_index_start=34469, test_index_start=34525, train_index_end=185334, val_index_end=39696, test_index_end=39763, train_set_length=24411, val_set_length=5228, test_set_length=5239, file='/data/datasets/cache/preprocessed-7.npz'), PreProcessed(train_index_start=185335, val_index_start=39697, test_index_start=39764, train_index_end=218557, val_index_end=46810, test_index_end=46890, train_set_length=33223, val_set_length=7114, test_set_length=7127, file='/data/datasets/cache/preprocessed-8.npz'), PreProcessed(train_index_start=218558, val_index_start=46811, test_index_start=46891, train_index_end=239257, val_index_end=51242, test_index_end=51336, train_set_length=20700, val_set_length=4432, test_set_length=4446, file='/data/datasets/cache/preprocessed-9.npz'), PreProcessed(train_index_start=239258, val_index_start=51243, test_index_start=51337, train_index_end=269156, val_index_end=57646, test_index_end=57753, train_set_length=29899, val_set_length=6404, test_set_length=6417, file='/data/datasets/cache/preprocessed-10.npz'), PreProcessed(train_index_start=269157, val_index_start=57647, test_index_start=57754, train_index_end=294262, val_index_end=63025, test_index_end=63138, train_set_length=25106, val_set_length=5379, test_set_length=5385, file='/data/datasets/cache/preprocessed-11.npz'), PreProcessed(train_index_start=294263, val_index_start=63026, test_index_start=63139, train_index_end=317548, val_index_end=68011, test_index_end=68142, train_set_length=23286, val_set_length=4986, test_set_length=5004, file='/data/datasets/cache/preprocessed-12.npz'), PreProcessed(train_index_start=317549, val_index_start=68012, test_index_start=68143, train_index_end=339489, val_index_end=72710, test_index_end=72848, train_set_length=21941, val_set_length=4699, test_set_length=4706, file='/data/datasets/cache/preprocessed-13.npz'), PreProcessed(train_index_start=339490, val_index_start=72711, test_index_start=72849, train_index_end=362706, val_index_end=77682, test_index_end=77829, train_set_length=23217, val_set_length=4972, test_set_length=4981, file='/data/datasets/cache/preprocessed-14.npz'), PreProcessed(train_index_start=362707, val_index_start=77683, test_index_start=77830, train_index_end=391205, val_index_end=83785, test_index_end=83943, train_set_length=28499, val_set_length=6103, test_set_length=6114, file='/data/datasets/cache/preprocessed-15.npz'), PreProcessed(train_index_start=391206, val_index_start=83786, test_index_start=83944, train_index_end=418704, val_index_end=89675, test_index_end=89842, train_set_length=27499, val_set_length=5890, test_set_length=5899, file='/data/datasets/cache/preprocessed-16.npz'), PreProcessed(train_index_start=418705, val_index_start=89676, test_index_start=89843, train_index_end=453330, val_index_end=97091, test_index_end=97280, train_set_length=34626, val_set_length=7416, test_set_length=7438, file='/data/datasets/cache/preprocessed-17.npz'), PreProcessed(train_index_start=453331, val_index_start=97092, test_index_start=97281, train_index_end=483219, val_index_end=103492, test_index_end=103691, train_set_length=29889, val_set_length=6401, test_set_length=6411, file='/data/datasets/cache/preprocessed-18.npz'), PreProcessed(train_index_start=483220, val_index_start=103493, test_index_start=103692, train_index_end=504489, val_index_end=108048, test_index_end=108256, train_set_length=21270, val_set_length=4556, test_set_length=4565, file='/data/datasets/cache/preprocessed-19.npz'), PreProcessed(train_index_start=504490, val_index_start=108049, test_index_start=108257, train_index_end=532017, val_index_end=113946, test_index_end=114160, train_set_length=27528, val_set_length=5898, test_set_length=5904, file='/data/datasets/cache/preprocessed-20.npz'), PreProcessed(train_index_start=532018, val_index_start=113947, test_index_start=114161, train_index_end=559796, val_index_end=119896, test_index_end=120123, train_set_length=27779, val_set_length=5950, test_set_length=5963, file='/data/datasets/cache/preprocessed-21.npz'), PreProcessed(train_index_start=559797, val_index_start=119897, test_index_start=120124, train_index_end=587313, val_index_end=125790, test_index_end=126025, train_set_length=27517, val_set_length=5894, test_set_length=5902, file='/data/datasets/cache/preprocessed-22.npz')]\n"
     ]
    },
    {
     "name": "stderr",
     "output_type": "stream",
     "text": [
      "\n"
     ]
    }
   ],
   "source": [
    "device = torch.device(\"cuda\" if torch.cuda.is_available() else \"mps\" if torch.backends.mps.is_available() else \"cpu\")\n",
    "print(device)\n",
    "\n",
    "data = load_data('/home/vavasthi/non-work/java-cli/outputs', '/data/datasets/cache', 50, 0.70, 0.15, device)\n",
    "print(data)"
   ]
  },
  {
   "cell_type": "code",
   "execution_count": 200,
   "id": "3bb35d0b-a55e-457e-94aa-ffdc8bed5fa9",
   "metadata": {},
   "outputs": [
    {
     "name": "stdout",
     "output_type": "stream",
     "text": [
      "(303620, 50, 31)\n"
     ]
    }
   ],
   "source": [
    "arr = np.load(os.path.join('/data/datasets/cache', 'preprocessed_data.npz'))['train_input']\n",
    "print(arr.shape)"
   ]
  },
  {
   "cell_type": "code",
   "execution_count": 166,
   "id": "8927fa26-e8ce-45e3-8d4e-c9567620c235",
   "metadata": {},
   "outputs": [
    {
     "name": "stdout",
     "output_type": "stream",
     "text": [
      "0\n"
     ]
    }
   ],
   "source": [
    "a = 4\n",
    "i = 0 if a else 45\n",
    "print(i)"
   ]
  },
  {
   "cell_type": "code",
   "execution_count": 149,
   "id": "6b0a8b7b-45a4-4d0f-8f93-6258e0790d5d",
   "metadata": {},
   "outputs": [
    {
     "name": "stdout",
     "output_type": "stream",
     "text": [
      "/data/datasets/qrjson/POWERGRID.json\n",
      "/data/datasets/qrjson/ADANIENT.json\n",
      "/data/datasets/qrjson/PETRONET.json\n",
      "/data/datasets/qrjson/LICI.json\n",
      "/data/datasets/qrjson/BEL.json\n",
      "/data/datasets/qrjson/NIACL.json\n",
      "/data/datasets/qrjson/MAHABANK.json\n",
      "/data/datasets/qrjson/HINDPETRO.json\n",
      "/data/datasets/qrjson/ASIANPAINT.json\n",
      "/data/datasets/qrjson/EICHERMOT.json\n",
      "/data/datasets/qrjson/LT.json\n",
      "/data/datasets/qrjson/ONGC.json\n",
      "/data/datasets/qrjson/HDFCLIFE.json\n",
      "/data/datasets/qrjson/UNIONBANK.json\n",
      "/data/datasets/qrjson/BANKBARODA.json\n",
      "/data/datasets/qrjson/TATAMOTORS.json\n",
      "/data/datasets/qrjson/TATACONSUM.json\n",
      "/data/datasets/qrjson/DRREDDY.json\n",
      "/data/datasets/qrjson/BPCL.json\n",
      "/data/datasets/qrjson/SBILIFE.json\n",
      "/data/datasets/qrjson/HCLTECH.json\n",
      "/data/datasets/qrjson/BAJAJ-AUTO.json\n",
      "/data/datasets/qrjson/JIOFIN.json\n",
      "/data/datasets/qrjson/WIPRO.json\n",
      "/data/datasets/qrjson/TATASTEEL.json\n",
      "/data/datasets/qrjson/ITC.json\n",
      "/data/datasets/qrjson/BANDHANBNK.json\n",
      "/data/datasets/qrjson/INDUSINDBK.json\n",
      "/data/datasets/qrjson/SUNPHARMA.json\n",
      "/data/datasets/qrjson/GICRE.json\n",
      "/data/datasets/qrjson/GAIL.json\n",
      "/data/datasets/qrjson/UCOBANK.json\n",
      "/data/datasets/qrjson/INDIANB.json\n",
      "/data/datasets/qrjson/CANBK.json\n",
      "/data/datasets/qrjson/ICICIBANK.json\n",
      "/data/datasets/qrjson/AXISBANK.json\n",
      "/data/datasets/qrjson/COALINDIA.json\n",
      "/data/datasets/qrjson/KOTAKBANK.json\n",
      "/data/datasets/qrjson/TCS.json\n",
      "/data/datasets/qrjson/BAJFINANCE.json\n",
      "/data/datasets/qrjson/TRENT.json\n",
      "/data/datasets/qrjson/SAIL.json\n",
      "/data/datasets/qrjson/GRASIM.json\n",
      "/data/datasets/qrjson/TITAN.json\n",
      "/data/datasets/qrjson/FEDERALBNK.json\n",
      "/data/datasets/qrjson/CENTRALBK.json\n",
      "/data/datasets/qrjson/JSWSTEEL.json\n",
      "/data/datasets/qrjson/HINDALCO.json\n",
      "/data/datasets/qrjson/SHRIRAMFIN.json\n",
      "/data/datasets/qrjson/NTPC.json\n",
      "/data/datasets/qrjson/IDFCFIRSTB.json\n",
      "/data/datasets/qrjson/RELIANCE.json\n",
      "/data/datasets/qrjson/TECHM.json\n",
      "/data/datasets/qrjson/CIPLA.json\n",
      "/data/datasets/qrjson/PNB.json\n",
      "/data/datasets/qrjson/HINDUNILVR.json\n",
      "/data/datasets/qrjson/APOLLOHOSP.json\n",
      "/data/datasets/qrjson/NESTLEIND.json\n",
      "/data/datasets/qrjson/BANKINDIA.json\n",
      "/data/datasets/qrjson/IOC.json\n",
      "/data/datasets/qrjson/RECLTD.json\n",
      "/data/datasets/qrjson/HDFCBANK.json\n",
      "/data/datasets/qrjson/BHARTIARTL.json\n",
      "/data/datasets/qrjson/ULTRACEMCO.json\n",
      "/data/datasets/qrjson/LICHSGFIN.json\n",
      "/data/datasets/qrjson/ADANIPORTS.json\n",
      "/data/datasets/qrjson/NATIONALUM.json\n",
      "/data/datasets/qrjson/INDIGO.json\n",
      "/data/datasets/qrjson/MAXHEALTH.json\n",
      "/data/datasets/qrjson/MARUTI.json\n",
      "/data/datasets/qrjson/SBIN.json\n",
      "/data/datasets/qrjson/PFC.json\n",
      "/data/datasets/qrjson/INFY.json\n",
      "/data/datasets/qrjson/M&M.json\n",
      "/data/datasets/qrjson/BAJAJFINSV.json\n",
      "/data/datasets/qrjson/ZOMATO.json\n"
     ]
    }
   ],
   "source": [
    "import os\n",
    "directory = \"/data/datasets/qrjson\"\n",
    "for f in os.listdir(directory):\n",
    "    file = os.path.join(directory, f)"
   ]
  },
  {
   "cell_type": "code",
   "execution_count": null,
   "id": "c9e08180-ae96-4d3d-93a6-adc112d9fc73",
   "metadata": {},
   "outputs": [],
   "source": []
  }
 ],
 "metadata": {
  "kernelspec": {
   "display_name": "Python (stockPredictor)",
   "language": "python",
   "name": "stockpredictor"
  },
  "language_info": {
   "codemirror_mode": {
    "name": "ipython",
    "version": 3
   },
   "file_extension": ".py",
   "mimetype": "text/x-python",
   "name": "python",
   "nbconvert_exporter": "python",
   "pygments_lexer": "ipython3",
   "version": "3.11.7"
  }
 },
 "nbformat": 4,
 "nbformat_minor": 5
}
